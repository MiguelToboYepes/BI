{
  "nbformat": 4,
  "nbformat_minor": 0,
  "metadata": {
    "colab": {
      "provenance": [],
      "include_colab_link": true
    },
    "kernelspec": {
      "name": "python3",
      "display_name": "Python 3"
    },
    "language_info": {
      "name": "python"
    }
  },
  "cells": [
    {
      "cell_type": "markdown",
      "metadata": {
        "id": "view-in-github",
        "colab_type": "text"
      },
      "source": [
        "<a href=\"https://colab.research.google.com/github/MiguelToboYepes/BI/blob/main/Reto_1.ipynb\" target=\"_parent\"><img src=\"https://colab.research.google.com/assets/colab-badge.svg\" alt=\"Open In Colab\"/></a>"
      ]
    },
    {
      "cell_type": "markdown",
      "source": [
        "# Reto 1\n",
        "\n",
        "1. Generar aleatoriamente, con el generador de datos de su elección, una base de datos de empresar comercializadoras, con al menos 50 registros que contenga los siguientes campos: `NIT`, `Razón social`, `Tipo de producto`, `Ventas 2024`, `Ventas 2023`\n",
        "\n",
        "2. Guardar  la base de datos como un archivo `csv`\n",
        "\n",
        "3. Crear una base de datos con SQL en Python llamada `Empresas`\n",
        "\n",
        "4. Crear una tabla dentro de la base de datos `Empresas`, que se llame `Ventas`. Cargue en `Ventas` la base de datos generada\n",
        "\n",
        "5. Visualice todos los registros de `Ventas`"
      ],
      "metadata": {
        "id": "kf697H0D_goM"
      }
    },
    {
      "cell_type": "code",
      "source": [
        "#Espacio para solucionar el Reto 1\n",
        "#Mockaroo generador de datos"
      ],
      "metadata": {
        "id": "fJTl6FGEC7Y1"
      },
      "execution_count": 1,
      "outputs": []
    },
    {
      "cell_type": "code",
      "source": [
        "import pandas as pd\n",
        "import sqlite3\n",
        "\n",
        "datos=pd.read_csv(\"/MOCK_DATA.csv\")\n",
        "\n",
        "\n"
      ],
      "metadata": {
        "id": "OmVqKGuxU3mv"
      },
      "execution_count": 2,
      "outputs": []
    },
    {
      "cell_type": "code",
      "source": [
        "datos.columns"
      ],
      "metadata": {
        "colab": {
          "base_uri": "https://localhost:8080/"
        },
        "id": "fZIySUJfsl6d",
        "outputId": "dc4d72f0-3c66-4595-a109-487da106d8ae"
      },
      "execution_count": 3,
      "outputs": [
        {
          "output_type": "execute_result",
          "data": {
            "text/plain": [
              "Index(['NIT', 'Razon_Social', 'TipoDeProducto', 'Ventas2024', 'Venta2023'], dtype='object')"
            ]
          },
          "metadata": {},
          "execution_count": 3
        }
      ]
    },
    {
      "cell_type": "code",
      "source": [
        "conn=sqlite3.connect(\"Empresas.db\")"
      ],
      "metadata": {
        "id": "niQ0gXkrV1RW"
      },
      "execution_count": 4,
      "outputs": []
    },
    {
      "cell_type": "code",
      "source": [
        "crear_tabla_Ventas='''CREATE TABLE IF NOT EXISTS Ventas(\n",
        "  NIT INTEGER,\n",
        "  Razon_Social TEXT,\n",
        "  TipoDeProducto TEXT,\n",
        "  Ventas2024 FLOAT ,\n",
        "  Venta2023 FLOAT\n",
        ")'''\n",
        "\n",
        "apuntador=conn.cursor()\n",
        "\n",
        "apuntador.execute(crear_tabla_Ventas)\n",
        "\n",
        "conn.commit()"
      ],
      "metadata": {
        "id": "m-9gWw6-7FxB"
      },
      "execution_count": 5,
      "outputs": []
    },
    {
      "cell_type": "code",
      "source": [],
      "metadata": {
        "id": "sCOWb27wsgUI"
      },
      "execution_count": 5,
      "outputs": []
    },
    {
      "cell_type": "code",
      "source": [
        "datos_Ventas=datos[[\"NIT\", \"Razon_Social\", \"TipoDeProducto\", \"Ventas2024\", \"Venta2023\"]]\n",
        "datos_Ventas.to_sql(\"Ventas\", conn, if_exists=\"append\", index=False)"
      ],
      "metadata": {
        "colab": {
          "base_uri": "https://localhost:8080/"
        },
        "id": "6hT9wVTs7NMc",
        "outputId": "829ecb12-a114-4530-8e90-b569f58b57ab"
      },
      "execution_count": 6,
      "outputs": [
        {
          "output_type": "execute_result",
          "data": {
            "text/plain": [
              "50"
            ]
          },
          "metadata": {},
          "execution_count": 6
        }
      ]
    },
    {
      "cell_type": "code",
      "source": [
        "consulta='''SELECT* FROM Ventas'''\n",
        "\n",
        "\n",
        "apuntador.execute(consulta)\n",
        "\n",
        "\n",
        "resultado= apuntador.fetchall()\n",
        "\n",
        "\n",
        "print(resultado )"
      ],
      "metadata": {
        "colab": {
          "base_uri": "https://localhost:8080/"
        },
        "id": "0xz5c4b4D6Vb",
        "outputId": "a039cebe-955a-47ea-b47f-8d56d95ec38e"
      },
      "execution_count": 7,
      "outputs": [
        {
          "output_type": "stream",
          "name": "stdout",
          "text": [
            "[('201.174.59.221/31', 'McDermott Group', 'Wine - Riesling Alsace Ac 2001', '$1.02', '$7.08'), ('129.122.151.145/29', 'Adams Group', 'Ham - Black Forest', '$9.91', '$9.90'), ('139.210.186.191/12', 'Waelchi Inc', 'Flower - Daisies', '$6.93', '$6.06'), ('48.123.186.195/24', 'Hyatt Group', 'Eel Fresh', '$4.45', '$7.88'), ('140.15.55.187/5', 'Bins-Medhurst', 'Lemons', '$9.07', '$7.43'), ('148.111.244.155/8', 'Collins LLC', 'Shrimp - 150 - 250', '$5.42', '$7.01'), ('242.22.80.14/4', 'Douglas, Abernathy and Kutch', 'Soup Campbells - Italian Wedding', '$0.84', '$4.00'), ('207.234.215.38/24', 'Considine-Blick', 'Lettuce - Mini Greens, Whole', '$1.07', '$5.99'), ('146.96.29.54/3', 'Connelly LLC', 'Chicken - Breast, 5 - 7 Oz', '$2.51', '$5.50'), ('195.180.74.165/25', 'Bayer, Bednar and Feeney', 'Icecream - Dstk Super Cone', '$6.24', '$2.70'), ('107.146.114.231/9', 'Satterfield, Oberbrunner and Ward', 'Bread - Focaccia Quarter', '$0.88', '$7.90'), ('171.114.217.170/25', 'Gutkowski Group', 'Bread Crumbs - Japanese Style', '$5.18', '$1.32'), ('47.142.14.238/28', 'Bernhard Group', 'Sterno - Chafing Dish Fuel', '$8.75', '$3.81'), ('17.212.95.230/12', 'Grimes, Gerhold and Hettinger', 'The Pop Shoppe - Lime Rickey', '$2.91', '$4.36'), ('216.49.228.163/25', 'Lowe-McCullough', 'Muffin Mix - Corn Harvest', '$1.78', '$0.88'), ('212.194.124.81/13', \"O'Connell, Weissnat and Keeling\", 'Roe - Lump Fish, Black', '$0.83', '$3.16'), ('93.180.120.158/23', 'Hansen-Hauck', 'Smoked Paprika', '$9.36', '$7.72'), ('235.240.14.186/15', \"Berge, O'Conner and Oberbrunner\", 'Garlic Powder', '$8.93', '$1.72'), ('95.151.123.204/9', 'Lakin-Witting', 'Wine - Malbec Trapiche Reserve', '$5.67', '$1.85'), ('185.95.185.73/29', 'Dickens-Gislason', 'Water - Evian 355 Ml', '$2.98', '$8.82'), ('225.170.3.236/7', 'Ruecker, Bradtke and Schinner', 'Bread - Hot Dog Buns', '$9.85', '$0.85'), ('97.153.231.32/10', 'Shanahan-Mueller', 'Cheese - Pont Couvert', '$4.14', '$4.20'), ('115.251.97.96/20', 'Franecki-Purdy', 'Lid Tray - 12in Dome', '$3.54', '$2.30'), ('237.113.245.24/15', 'Collins, Daniel and Wintheiser', 'Lemon Grass', '$8.81', '$6.20'), ('120.211.174.194/25', 'Champlin-Doyle', 'Vaccum Bag - 14x20', '$5.97', '$0.22'), ('54.10.230.107/31', 'Rowe and Sons', 'Pork - Smoked Back Bacon', '$8.52', '$4.28'), ('33.0.224.146/14', 'Homenick-Schiller', 'Muffin - Carrot Individual Wrap', '$7.20', '$8.57'), ('100.226.217.246/1', 'Wehner-Shanahan', 'Cookies Almond Hazelnut', '$2.08', '$7.07'), ('123.120.204.191/16', 'Johnston, Kassulke and Nitzsche', 'Jameson Irish Whiskey', '$5.36', '$7.35'), ('201.232.36.217/13', 'Lynch LLC', 'Pea - Snow', '$0.33', '$2.16'), ('18.10.203.100/16', 'Haag Inc', 'Oil - Grapeseed Oil', '$9.94', '$4.22'), ('185.12.49.66/13', 'Quigley, Denesik and Quitzon', 'Sprouts - Alfalfa', '$3.24', '$8.49'), ('242.155.24.178/24', 'Wilderman, Murray and Kerluke', 'Soup - Knorr, Country Bean', '$2.92', '$5.79'), ('121.55.76.13/16', 'Frami Inc', 'Pepper - Chili Powder', '$2.73', '$1.73'), ('48.199.182.254/14', 'Swift-Skiles', 'Mace', '$3.15', '$1.51'), ('225.140.124.191/8', 'Gusikowski, Altenwerth and Stehr', 'Sansho Powder', '$1.06', '$9.52'), ('147.44.231.62/6', 'Hansen LLC', 'Ezy Change Mophandle', '$1.93', '$7.28'), ('255.136.178.118/24', 'Jakubowski Group', 'Wine - Shiraz South Eastern', '$5.18', '$7.46'), ('236.178.212.99/9', 'Bergstrom Group', 'Mushroom Morel Fresh', '$1.84', '$9.13'), ('77.233.93.253/27', 'Hilll LLC', 'Wine - Tribal Sauvignon', '$7.90', '$8.69'), ('0.22.200.16/3', 'Schuppe-Wintheiser', 'Wine - Sake', '$0.66', '$1.41'), ('130.91.134.227/5', 'Schaefer, Kuhlman and Kub', 'Rhubarb', '$0.05', '$9.96'), ('160.184.12.146/19', 'Yundt and Sons', 'Shrimp - Black Tiger 26/30', '$3.14', '$8.23'), ('201.231.198.19/22', 'Kuhlman Group', 'Absolut Citron', '$9.15', '$1.65'), ('49.239.152.153/1', 'McGlynn Group', 'Oil - Food, Lacquer Spray', '$4.23', '$6.90'), ('208.10.239.30/16', 'Bradtke Group', 'Egg - Salad Premix', '$7.97', '$4.49'), ('60.92.134.4/25', 'Quitzon, Larkin and Osinski', 'Beef - Kobe Striploin', '$8.37', '$0.44'), ('19.40.172.81/29', 'Davis and Sons', 'Flour - Chickpea', '$9.12', '$0.32'), ('10.51.27.37/7', 'Fadel-Haag', 'Soup - Beef Conomme, Dry', '$1.33', '$9.87'), ('107.244.212.231/16', 'Bergnaum and Sons', 'Tomatoes Tear Drop Yellow', '$3.47', '$8.61')]\n"
          ]
        }
      ]
    },
    {
      "cell_type": "code",
      "source": [
        "for filas in resultado:\n",
        "  print(filas)"
      ],
      "metadata": {
        "colab": {
          "base_uri": "https://localhost:8080/"
        },
        "id": "XDwe2VCdEK28",
        "outputId": "b4f60522-9697-49aa-e7bf-9133e7ae5e29"
      },
      "execution_count": 8,
      "outputs": [
        {
          "output_type": "stream",
          "name": "stdout",
          "text": [
            "('201.174.59.221/31', 'McDermott Group', 'Wine - Riesling Alsace Ac 2001', '$1.02', '$7.08')\n",
            "('129.122.151.145/29', 'Adams Group', 'Ham - Black Forest', '$9.91', '$9.90')\n",
            "('139.210.186.191/12', 'Waelchi Inc', 'Flower - Daisies', '$6.93', '$6.06')\n",
            "('48.123.186.195/24', 'Hyatt Group', 'Eel Fresh', '$4.45', '$7.88')\n",
            "('140.15.55.187/5', 'Bins-Medhurst', 'Lemons', '$9.07', '$7.43')\n",
            "('148.111.244.155/8', 'Collins LLC', 'Shrimp - 150 - 250', '$5.42', '$7.01')\n",
            "('242.22.80.14/4', 'Douglas, Abernathy and Kutch', 'Soup Campbells - Italian Wedding', '$0.84', '$4.00')\n",
            "('207.234.215.38/24', 'Considine-Blick', 'Lettuce - Mini Greens, Whole', '$1.07', '$5.99')\n",
            "('146.96.29.54/3', 'Connelly LLC', 'Chicken - Breast, 5 - 7 Oz', '$2.51', '$5.50')\n",
            "('195.180.74.165/25', 'Bayer, Bednar and Feeney', 'Icecream - Dstk Super Cone', '$6.24', '$2.70')\n",
            "('107.146.114.231/9', 'Satterfield, Oberbrunner and Ward', 'Bread - Focaccia Quarter', '$0.88', '$7.90')\n",
            "('171.114.217.170/25', 'Gutkowski Group', 'Bread Crumbs - Japanese Style', '$5.18', '$1.32')\n",
            "('47.142.14.238/28', 'Bernhard Group', 'Sterno - Chafing Dish Fuel', '$8.75', '$3.81')\n",
            "('17.212.95.230/12', 'Grimes, Gerhold and Hettinger', 'The Pop Shoppe - Lime Rickey', '$2.91', '$4.36')\n",
            "('216.49.228.163/25', 'Lowe-McCullough', 'Muffin Mix - Corn Harvest', '$1.78', '$0.88')\n",
            "('212.194.124.81/13', \"O'Connell, Weissnat and Keeling\", 'Roe - Lump Fish, Black', '$0.83', '$3.16')\n",
            "('93.180.120.158/23', 'Hansen-Hauck', 'Smoked Paprika', '$9.36', '$7.72')\n",
            "('235.240.14.186/15', \"Berge, O'Conner and Oberbrunner\", 'Garlic Powder', '$8.93', '$1.72')\n",
            "('95.151.123.204/9', 'Lakin-Witting', 'Wine - Malbec Trapiche Reserve', '$5.67', '$1.85')\n",
            "('185.95.185.73/29', 'Dickens-Gislason', 'Water - Evian 355 Ml', '$2.98', '$8.82')\n",
            "('225.170.3.236/7', 'Ruecker, Bradtke and Schinner', 'Bread - Hot Dog Buns', '$9.85', '$0.85')\n",
            "('97.153.231.32/10', 'Shanahan-Mueller', 'Cheese - Pont Couvert', '$4.14', '$4.20')\n",
            "('115.251.97.96/20', 'Franecki-Purdy', 'Lid Tray - 12in Dome', '$3.54', '$2.30')\n",
            "('237.113.245.24/15', 'Collins, Daniel and Wintheiser', 'Lemon Grass', '$8.81', '$6.20')\n",
            "('120.211.174.194/25', 'Champlin-Doyle', 'Vaccum Bag - 14x20', '$5.97', '$0.22')\n",
            "('54.10.230.107/31', 'Rowe and Sons', 'Pork - Smoked Back Bacon', '$8.52', '$4.28')\n",
            "('33.0.224.146/14', 'Homenick-Schiller', 'Muffin - Carrot Individual Wrap', '$7.20', '$8.57')\n",
            "('100.226.217.246/1', 'Wehner-Shanahan', 'Cookies Almond Hazelnut', '$2.08', '$7.07')\n",
            "('123.120.204.191/16', 'Johnston, Kassulke and Nitzsche', 'Jameson Irish Whiskey', '$5.36', '$7.35')\n",
            "('201.232.36.217/13', 'Lynch LLC', 'Pea - Snow', '$0.33', '$2.16')\n",
            "('18.10.203.100/16', 'Haag Inc', 'Oil - Grapeseed Oil', '$9.94', '$4.22')\n",
            "('185.12.49.66/13', 'Quigley, Denesik and Quitzon', 'Sprouts - Alfalfa', '$3.24', '$8.49')\n",
            "('242.155.24.178/24', 'Wilderman, Murray and Kerluke', 'Soup - Knorr, Country Bean', '$2.92', '$5.79')\n",
            "('121.55.76.13/16', 'Frami Inc', 'Pepper - Chili Powder', '$2.73', '$1.73')\n",
            "('48.199.182.254/14', 'Swift-Skiles', 'Mace', '$3.15', '$1.51')\n",
            "('225.140.124.191/8', 'Gusikowski, Altenwerth and Stehr', 'Sansho Powder', '$1.06', '$9.52')\n",
            "('147.44.231.62/6', 'Hansen LLC', 'Ezy Change Mophandle', '$1.93', '$7.28')\n",
            "('255.136.178.118/24', 'Jakubowski Group', 'Wine - Shiraz South Eastern', '$5.18', '$7.46')\n",
            "('236.178.212.99/9', 'Bergstrom Group', 'Mushroom Morel Fresh', '$1.84', '$9.13')\n",
            "('77.233.93.253/27', 'Hilll LLC', 'Wine - Tribal Sauvignon', '$7.90', '$8.69')\n",
            "('0.22.200.16/3', 'Schuppe-Wintheiser', 'Wine - Sake', '$0.66', '$1.41')\n",
            "('130.91.134.227/5', 'Schaefer, Kuhlman and Kub', 'Rhubarb', '$0.05', '$9.96')\n",
            "('160.184.12.146/19', 'Yundt and Sons', 'Shrimp - Black Tiger 26/30', '$3.14', '$8.23')\n",
            "('201.231.198.19/22', 'Kuhlman Group', 'Absolut Citron', '$9.15', '$1.65')\n",
            "('49.239.152.153/1', 'McGlynn Group', 'Oil - Food, Lacquer Spray', '$4.23', '$6.90')\n",
            "('208.10.239.30/16', 'Bradtke Group', 'Egg - Salad Premix', '$7.97', '$4.49')\n",
            "('60.92.134.4/25', 'Quitzon, Larkin and Osinski', 'Beef - Kobe Striploin', '$8.37', '$0.44')\n",
            "('19.40.172.81/29', 'Davis and Sons', 'Flour - Chickpea', '$9.12', '$0.32')\n",
            "('10.51.27.37/7', 'Fadel-Haag', 'Soup - Beef Conomme, Dry', '$1.33', '$9.87')\n",
            "('107.244.212.231/16', 'Bergnaum and Sons', 'Tomatoes Tear Drop Yellow', '$3.47', '$8.61')\n"
          ]
        }
      ]
    }
  ]
}