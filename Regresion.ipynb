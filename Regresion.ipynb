{
  "nbformat": 4,
  "nbformat_minor": 0,
  "metadata": {
    "colab": {
      "provenance": [],
      "include_colab_link": true
    },
    "kernelspec": {
      "name": "python3",
      "display_name": "Python 3"
    },
    "language_info": {
      "name": "python"
    }
  },
  "cells": [
    {
      "cell_type": "markdown",
      "metadata": {
        "id": "view-in-github",
        "colab_type": "text"
      },
      "source": [
        "<a href=\"https://colab.research.google.com/github/MiguelToboYepes/BI/blob/main/Regresion.ipynb\" target=\"_parent\"><img src=\"https://colab.research.google.com/assets/colab-badge.svg\" alt=\"Open In Colab\"/></a>"
      ]
    },
    {
      "cell_type": "markdown",
      "source": [
        "# Regresión lineal"
      ],
      "metadata": {
        "id": "7ksb-YGey2IO"
      }
    },
    {
      "cell_type": "code",
      "source": [
        "from google.colab import drive\n",
        "drive.mount('/content/drive')"
      ],
      "metadata": {
        "colab": {
          "base_uri": "https://localhost:8080/"
        },
        "id": "uihB64nU7P_n",
        "outputId": "732202ca-c978-45f2-f28c-1fb25174c07e"
      },
      "execution_count": 8,
      "outputs": [
        {
          "output_type": "stream",
          "name": "stdout",
          "text": [
            "Drive already mounted at /content/drive; to attempt to forcibly remount, call drive.mount(\"/content/drive\", force_remount=True).\n"
          ]
        }
      ]
    },
    {
      "cell_type": "code",
      "source": [
        "import pandas as pd\n",
        "\n",
        "df = pd.read_csv('/content/drive/MyDrive/BI /Dataset_heating_cost.csv', encoding=\"latin1\")\n",
        "df.head()"
      ],
      "metadata": {
        "colab": {
          "base_uri": "https://localhost:8080/",
          "height": 206
        },
        "id": "OQn7gulDGCbt",
        "outputId": "ef6f6ecd-0eea-4076-c505-5dd03a3b3b1a"
      },
      "execution_count": 9,
      "outputs": [
        {
          "output_type": "execute_result",
          "data": {
            "text/plain": [
              "   Casa  Costo de calefacción (USD)  Temp externa media (ºF)  \\\n",
              "0     1                         250                       35   \n",
              "1     2                         360                       29   \n",
              "2     3                         165                       36   \n",
              "3     4                          43                       60   \n",
              "4     5                          92                       65   \n",
              "\n",
              "   Aislamiento del atico (pulgadas)  Antiguedad del calentador (años)  Garaje  \n",
              "0                                 3                                 6       0  \n",
              "1                                 4                                10       1  \n",
              "2                                 7                                 3       0  \n",
              "3                                 6                                 9       0  \n",
              "4                                 5                                 6       0  "
            ],
            "text/html": [
              "\n",
              "  <div id=\"df-0e68c1aa-646e-4636-ab09-e0a116f8f085\" class=\"colab-df-container\">\n",
              "    <div>\n",
              "<style scoped>\n",
              "    .dataframe tbody tr th:only-of-type {\n",
              "        vertical-align: middle;\n",
              "    }\n",
              "\n",
              "    .dataframe tbody tr th {\n",
              "        vertical-align: top;\n",
              "    }\n",
              "\n",
              "    .dataframe thead th {\n",
              "        text-align: right;\n",
              "    }\n",
              "</style>\n",
              "<table border=\"1\" class=\"dataframe\">\n",
              "  <thead>\n",
              "    <tr style=\"text-align: right;\">\n",
              "      <th></th>\n",
              "      <th>Casa</th>\n",
              "      <th>Costo de calefacción (USD)</th>\n",
              "      <th>Temp externa media (ºF)</th>\n",
              "      <th>Aislamiento del atico (pulgadas)</th>\n",
              "      <th>Antiguedad del calentador (años)</th>\n",
              "      <th>Garaje</th>\n",
              "    </tr>\n",
              "  </thead>\n",
              "  <tbody>\n",
              "    <tr>\n",
              "      <th>0</th>\n",
              "      <td>1</td>\n",
              "      <td>250</td>\n",
              "      <td>35</td>\n",
              "      <td>3</td>\n",
              "      <td>6</td>\n",
              "      <td>0</td>\n",
              "    </tr>\n",
              "    <tr>\n",
              "      <th>1</th>\n",
              "      <td>2</td>\n",
              "      <td>360</td>\n",
              "      <td>29</td>\n",
              "      <td>4</td>\n",
              "      <td>10</td>\n",
              "      <td>1</td>\n",
              "    </tr>\n",
              "    <tr>\n",
              "      <th>2</th>\n",
              "      <td>3</td>\n",
              "      <td>165</td>\n",
              "      <td>36</td>\n",
              "      <td>7</td>\n",
              "      <td>3</td>\n",
              "      <td>0</td>\n",
              "    </tr>\n",
              "    <tr>\n",
              "      <th>3</th>\n",
              "      <td>4</td>\n",
              "      <td>43</td>\n",
              "      <td>60</td>\n",
              "      <td>6</td>\n",
              "      <td>9</td>\n",
              "      <td>0</td>\n",
              "    </tr>\n",
              "    <tr>\n",
              "      <th>4</th>\n",
              "      <td>5</td>\n",
              "      <td>92</td>\n",
              "      <td>65</td>\n",
              "      <td>5</td>\n",
              "      <td>6</td>\n",
              "      <td>0</td>\n",
              "    </tr>\n",
              "  </tbody>\n",
              "</table>\n",
              "</div>\n",
              "    <div class=\"colab-df-buttons\">\n",
              "\n",
              "  <div class=\"colab-df-container\">\n",
              "    <button class=\"colab-df-convert\" onclick=\"convertToInteractive('df-0e68c1aa-646e-4636-ab09-e0a116f8f085')\"\n",
              "            title=\"Convert this dataframe to an interactive table.\"\n",
              "            style=\"display:none;\">\n",
              "\n",
              "  <svg xmlns=\"http://www.w3.org/2000/svg\" height=\"24px\" viewBox=\"0 -960 960 960\">\n",
              "    <path d=\"M120-120v-720h720v720H120Zm60-500h600v-160H180v160Zm220 220h160v-160H400v160Zm0 220h160v-160H400v160ZM180-400h160v-160H180v160Zm440 0h160v-160H620v160ZM180-180h160v-160H180v160Zm440 0h160v-160H620v160Z\"/>\n",
              "  </svg>\n",
              "    </button>\n",
              "\n",
              "  <style>\n",
              "    .colab-df-container {\n",
              "      display:flex;\n",
              "      gap: 12px;\n",
              "    }\n",
              "\n",
              "    .colab-df-convert {\n",
              "      background-color: #E8F0FE;\n",
              "      border: none;\n",
              "      border-radius: 50%;\n",
              "      cursor: pointer;\n",
              "      display: none;\n",
              "      fill: #1967D2;\n",
              "      height: 32px;\n",
              "      padding: 0 0 0 0;\n",
              "      width: 32px;\n",
              "    }\n",
              "\n",
              "    .colab-df-convert:hover {\n",
              "      background-color: #E2EBFA;\n",
              "      box-shadow: 0px 1px 2px rgba(60, 64, 67, 0.3), 0px 1px 3px 1px rgba(60, 64, 67, 0.15);\n",
              "      fill: #174EA6;\n",
              "    }\n",
              "\n",
              "    .colab-df-buttons div {\n",
              "      margin-bottom: 4px;\n",
              "    }\n",
              "\n",
              "    [theme=dark] .colab-df-convert {\n",
              "      background-color: #3B4455;\n",
              "      fill: #D2E3FC;\n",
              "    }\n",
              "\n",
              "    [theme=dark] .colab-df-convert:hover {\n",
              "      background-color: #434B5C;\n",
              "      box-shadow: 0px 1px 3px 1px rgba(0, 0, 0, 0.15);\n",
              "      filter: drop-shadow(0px 1px 2px rgba(0, 0, 0, 0.3));\n",
              "      fill: #FFFFFF;\n",
              "    }\n",
              "  </style>\n",
              "\n",
              "    <script>\n",
              "      const buttonEl =\n",
              "        document.querySelector('#df-0e68c1aa-646e-4636-ab09-e0a116f8f085 button.colab-df-convert');\n",
              "      buttonEl.style.display =\n",
              "        google.colab.kernel.accessAllowed ? 'block' : 'none';\n",
              "\n",
              "      async function convertToInteractive(key) {\n",
              "        const element = document.querySelector('#df-0e68c1aa-646e-4636-ab09-e0a116f8f085');\n",
              "        const dataTable =\n",
              "          await google.colab.kernel.invokeFunction('convertToInteractive',\n",
              "                                                    [key], {});\n",
              "        if (!dataTable) return;\n",
              "\n",
              "        const docLinkHtml = 'Like what you see? Visit the ' +\n",
              "          '<a target=\"_blank\" href=https://colab.research.google.com/notebooks/data_table.ipynb>data table notebook</a>'\n",
              "          + ' to learn more about interactive tables.';\n",
              "        element.innerHTML = '';\n",
              "        dataTable['output_type'] = 'display_data';\n",
              "        await google.colab.output.renderOutput(dataTable, element);\n",
              "        const docLink = document.createElement('div');\n",
              "        docLink.innerHTML = docLinkHtml;\n",
              "        element.appendChild(docLink);\n",
              "      }\n",
              "    </script>\n",
              "  </div>\n",
              "\n",
              "\n",
              "    <div id=\"df-04fe9074-9919-4b3b-9870-f5002587fe71\">\n",
              "      <button class=\"colab-df-quickchart\" onclick=\"quickchart('df-04fe9074-9919-4b3b-9870-f5002587fe71')\"\n",
              "                title=\"Suggest charts\"\n",
              "                style=\"display:none;\">\n",
              "\n",
              "<svg xmlns=\"http://www.w3.org/2000/svg\" height=\"24px\"viewBox=\"0 0 24 24\"\n",
              "     width=\"24px\">\n",
              "    <g>\n",
              "        <path d=\"M19 3H5c-1.1 0-2 .9-2 2v14c0 1.1.9 2 2 2h14c1.1 0 2-.9 2-2V5c0-1.1-.9-2-2-2zM9 17H7v-7h2v7zm4 0h-2V7h2v10zm4 0h-2v-4h2v4z\"/>\n",
              "    </g>\n",
              "</svg>\n",
              "      </button>\n",
              "\n",
              "<style>\n",
              "  .colab-df-quickchart {\n",
              "      --bg-color: #E8F0FE;\n",
              "      --fill-color: #1967D2;\n",
              "      --hover-bg-color: #E2EBFA;\n",
              "      --hover-fill-color: #174EA6;\n",
              "      --disabled-fill-color: #AAA;\n",
              "      --disabled-bg-color: #DDD;\n",
              "  }\n",
              "\n",
              "  [theme=dark] .colab-df-quickchart {\n",
              "      --bg-color: #3B4455;\n",
              "      --fill-color: #D2E3FC;\n",
              "      --hover-bg-color: #434B5C;\n",
              "      --hover-fill-color: #FFFFFF;\n",
              "      --disabled-bg-color: #3B4455;\n",
              "      --disabled-fill-color: #666;\n",
              "  }\n",
              "\n",
              "  .colab-df-quickchart {\n",
              "    background-color: var(--bg-color);\n",
              "    border: none;\n",
              "    border-radius: 50%;\n",
              "    cursor: pointer;\n",
              "    display: none;\n",
              "    fill: var(--fill-color);\n",
              "    height: 32px;\n",
              "    padding: 0;\n",
              "    width: 32px;\n",
              "  }\n",
              "\n",
              "  .colab-df-quickchart:hover {\n",
              "    background-color: var(--hover-bg-color);\n",
              "    box-shadow: 0 1px 2px rgba(60, 64, 67, 0.3), 0 1px 3px 1px rgba(60, 64, 67, 0.15);\n",
              "    fill: var(--button-hover-fill-color);\n",
              "  }\n",
              "\n",
              "  .colab-df-quickchart-complete:disabled,\n",
              "  .colab-df-quickchart-complete:disabled:hover {\n",
              "    background-color: var(--disabled-bg-color);\n",
              "    fill: var(--disabled-fill-color);\n",
              "    box-shadow: none;\n",
              "  }\n",
              "\n",
              "  .colab-df-spinner {\n",
              "    border: 2px solid var(--fill-color);\n",
              "    border-color: transparent;\n",
              "    border-bottom-color: var(--fill-color);\n",
              "    animation:\n",
              "      spin 1s steps(1) infinite;\n",
              "  }\n",
              "\n",
              "  @keyframes spin {\n",
              "    0% {\n",
              "      border-color: transparent;\n",
              "      border-bottom-color: var(--fill-color);\n",
              "      border-left-color: var(--fill-color);\n",
              "    }\n",
              "    20% {\n",
              "      border-color: transparent;\n",
              "      border-left-color: var(--fill-color);\n",
              "      border-top-color: var(--fill-color);\n",
              "    }\n",
              "    30% {\n",
              "      border-color: transparent;\n",
              "      border-left-color: var(--fill-color);\n",
              "      border-top-color: var(--fill-color);\n",
              "      border-right-color: var(--fill-color);\n",
              "    }\n",
              "    40% {\n",
              "      border-color: transparent;\n",
              "      border-right-color: var(--fill-color);\n",
              "      border-top-color: var(--fill-color);\n",
              "    }\n",
              "    60% {\n",
              "      border-color: transparent;\n",
              "      border-right-color: var(--fill-color);\n",
              "    }\n",
              "    80% {\n",
              "      border-color: transparent;\n",
              "      border-right-color: var(--fill-color);\n",
              "      border-bottom-color: var(--fill-color);\n",
              "    }\n",
              "    90% {\n",
              "      border-color: transparent;\n",
              "      border-bottom-color: var(--fill-color);\n",
              "    }\n",
              "  }\n",
              "</style>\n",
              "\n",
              "      <script>\n",
              "        async function quickchart(key) {\n",
              "          const quickchartButtonEl =\n",
              "            document.querySelector('#' + key + ' button');\n",
              "          quickchartButtonEl.disabled = true;  // To prevent multiple clicks.\n",
              "          quickchartButtonEl.classList.add('colab-df-spinner');\n",
              "          try {\n",
              "            const charts = await google.colab.kernel.invokeFunction(\n",
              "                'suggestCharts', [key], {});\n",
              "          } catch (error) {\n",
              "            console.error('Error during call to suggestCharts:', error);\n",
              "          }\n",
              "          quickchartButtonEl.classList.remove('colab-df-spinner');\n",
              "          quickchartButtonEl.classList.add('colab-df-quickchart-complete');\n",
              "        }\n",
              "        (() => {\n",
              "          let quickchartButtonEl =\n",
              "            document.querySelector('#df-04fe9074-9919-4b3b-9870-f5002587fe71 button');\n",
              "          quickchartButtonEl.style.display =\n",
              "            google.colab.kernel.accessAllowed ? 'block' : 'none';\n",
              "        })();\n",
              "      </script>\n",
              "    </div>\n",
              "\n",
              "    </div>\n",
              "  </div>\n"
            ],
            "application/vnd.google.colaboratory.intrinsic+json": {
              "type": "dataframe",
              "variable_name": "df",
              "summary": "{\n  \"name\": \"df\",\n  \"rows\": 20,\n  \"fields\": [\n    {\n      \"column\": \"Casa\",\n      \"properties\": {\n        \"dtype\": \"number\",\n        \"std\": 5,\n        \"min\": 1,\n        \"max\": 20,\n        \"num_unique_values\": 20,\n        \"samples\": [\n          1,\n          18,\n          16\n        ],\n        \"semantic_type\": \"\",\n        \"description\": \"\"\n      }\n    },\n    {\n      \"column\": \"Costo de calefacci\\u00f3n (USD)\",\n      \"properties\": {\n        \"dtype\": \"number\",\n        \"std\": 105,\n        \"min\": 43,\n        \"max\": 400,\n        \"num_unique_values\": 20,\n        \"samples\": [\n          250,\n          190,\n          272\n        ],\n        \"semantic_type\": \"\",\n        \"description\": \"\"\n      }\n    },\n    {\n      \"column\": \"Temp externa media (\\u00baF)\",\n      \"properties\": {\n        \"dtype\": \"number\",\n        \"std\": 17,\n        \"min\": 7,\n        \"max\": 65,\n        \"num_unique_values\": 17,\n        \"samples\": [\n          35,\n          29,\n          30\n        ],\n        \"semantic_type\": \"\",\n        \"description\": \"\"\n      }\n    },\n    {\n      \"column\": \"Aislamiento del atico (pulgadas)\",\n      \"properties\": {\n        \"dtype\": \"number\",\n        \"std\": 2,\n        \"min\": 2,\n        \"max\": 12,\n        \"num_unique_values\": 10,\n        \"samples\": [\n          12,\n          4,\n          10\n        ],\n        \"semantic_type\": \"\",\n        \"description\": \"\"\n      }\n    },\n    {\n      \"column\": \"Antiguedad del calentador (a\\u00f1os)\",\n      \"properties\": {\n        \"dtype\": \"number\",\n        \"std\": 3,\n        \"min\": 1,\n        \"max\": 15,\n        \"num_unique_values\": 11,\n        \"samples\": [\n          7,\n          6,\n          15\n        ],\n        \"semantic_type\": \"\",\n        \"description\": \"\"\n      }\n    },\n    {\n      \"column\": \"Garaje\",\n      \"properties\": {\n        \"dtype\": \"number\",\n        \"std\": 0,\n        \"min\": 0,\n        \"max\": 1,\n        \"num_unique_values\": 2,\n        \"samples\": [\n          1,\n          0\n        ],\n        \"semantic_type\": \"\",\n        \"description\": \"\"\n      }\n    }\n  ]\n}"
            }
          },
          "metadata": {},
          "execution_count": 9
        }
      ]
    },
    {
      "cell_type": "code",
      "source": [
        "df.describe()"
      ],
      "metadata": {
        "colab": {
          "base_uri": "https://localhost:8080/",
          "height": 300
        },
        "id": "oRD2VzY37lvu",
        "outputId": "eee000b1-483f-470a-f64e-032a7775ac66"
      },
      "execution_count": 10,
      "outputs": [
        {
          "output_type": "execute_result",
          "data": {
            "text/plain": [
              "           Casa  Costo de calefacción (USD)  Temp externa media (ºF)  \\\n",
              "count  20.00000                   20.000000                20.000000   \n",
              "mean   10.50000                  205.250000                37.200000   \n",
              "std     5.91608                  105.858831                17.410221   \n",
              "min     1.00000                   43.000000                 7.000000   \n",
              "25%     5.75000                  113.500000                25.500000   \n",
              "50%    10.50000                  202.500000                35.500000   \n",
              "75%    15.25000                  276.500000                54.250000   \n",
              "max    20.00000                  400.000000                65.000000   \n",
              "\n",
              "       Aislamiento del atico (pulgadas)  Antiguedad del calentador (años)  \\\n",
              "count                         20.000000                         20.000000   \n",
              "mean                           6.350000                          7.000000   \n",
              "std                            2.476734                          3.340344   \n",
              "min                            2.000000                          1.000000   \n",
              "25%                            5.000000                          5.000000   \n",
              "50%                            6.000000                          6.500000   \n",
              "75%                            8.000000                          9.250000   \n",
              "max                           12.000000                         15.000000   \n",
              "\n",
              "          Garaje  \n",
              "count  20.000000  \n",
              "mean    0.400000  \n",
              "std     0.502625  \n",
              "min     0.000000  \n",
              "25%     0.000000  \n",
              "50%     0.000000  \n",
              "75%     1.000000  \n",
              "max     1.000000  "
            ],
            "text/html": [
              "\n",
              "  <div id=\"df-deecc2e5-f0e9-43ab-bdef-1e0cfe1d3c19\" class=\"colab-df-container\">\n",
              "    <div>\n",
              "<style scoped>\n",
              "    .dataframe tbody tr th:only-of-type {\n",
              "        vertical-align: middle;\n",
              "    }\n",
              "\n",
              "    .dataframe tbody tr th {\n",
              "        vertical-align: top;\n",
              "    }\n",
              "\n",
              "    .dataframe thead th {\n",
              "        text-align: right;\n",
              "    }\n",
              "</style>\n",
              "<table border=\"1\" class=\"dataframe\">\n",
              "  <thead>\n",
              "    <tr style=\"text-align: right;\">\n",
              "      <th></th>\n",
              "      <th>Casa</th>\n",
              "      <th>Costo de calefacción (USD)</th>\n",
              "      <th>Temp externa media (ºF)</th>\n",
              "      <th>Aislamiento del atico (pulgadas)</th>\n",
              "      <th>Antiguedad del calentador (años)</th>\n",
              "      <th>Garaje</th>\n",
              "    </tr>\n",
              "  </thead>\n",
              "  <tbody>\n",
              "    <tr>\n",
              "      <th>count</th>\n",
              "      <td>20.00000</td>\n",
              "      <td>20.000000</td>\n",
              "      <td>20.000000</td>\n",
              "      <td>20.000000</td>\n",
              "      <td>20.000000</td>\n",
              "      <td>20.000000</td>\n",
              "    </tr>\n",
              "    <tr>\n",
              "      <th>mean</th>\n",
              "      <td>10.50000</td>\n",
              "      <td>205.250000</td>\n",
              "      <td>37.200000</td>\n",
              "      <td>6.350000</td>\n",
              "      <td>7.000000</td>\n",
              "      <td>0.400000</td>\n",
              "    </tr>\n",
              "    <tr>\n",
              "      <th>std</th>\n",
              "      <td>5.91608</td>\n",
              "      <td>105.858831</td>\n",
              "      <td>17.410221</td>\n",
              "      <td>2.476734</td>\n",
              "      <td>3.340344</td>\n",
              "      <td>0.502625</td>\n",
              "    </tr>\n",
              "    <tr>\n",
              "      <th>min</th>\n",
              "      <td>1.00000</td>\n",
              "      <td>43.000000</td>\n",
              "      <td>7.000000</td>\n",
              "      <td>2.000000</td>\n",
              "      <td>1.000000</td>\n",
              "      <td>0.000000</td>\n",
              "    </tr>\n",
              "    <tr>\n",
              "      <th>25%</th>\n",
              "      <td>5.75000</td>\n",
              "      <td>113.500000</td>\n",
              "      <td>25.500000</td>\n",
              "      <td>5.000000</td>\n",
              "      <td>5.000000</td>\n",
              "      <td>0.000000</td>\n",
              "    </tr>\n",
              "    <tr>\n",
              "      <th>50%</th>\n",
              "      <td>10.50000</td>\n",
              "      <td>202.500000</td>\n",
              "      <td>35.500000</td>\n",
              "      <td>6.000000</td>\n",
              "      <td>6.500000</td>\n",
              "      <td>0.000000</td>\n",
              "    </tr>\n",
              "    <tr>\n",
              "      <th>75%</th>\n",
              "      <td>15.25000</td>\n",
              "      <td>276.500000</td>\n",
              "      <td>54.250000</td>\n",
              "      <td>8.000000</td>\n",
              "      <td>9.250000</td>\n",
              "      <td>1.000000</td>\n",
              "    </tr>\n",
              "    <tr>\n",
              "      <th>max</th>\n",
              "      <td>20.00000</td>\n",
              "      <td>400.000000</td>\n",
              "      <td>65.000000</td>\n",
              "      <td>12.000000</td>\n",
              "      <td>15.000000</td>\n",
              "      <td>1.000000</td>\n",
              "    </tr>\n",
              "  </tbody>\n",
              "</table>\n",
              "</div>\n",
              "    <div class=\"colab-df-buttons\">\n",
              "\n",
              "  <div class=\"colab-df-container\">\n",
              "    <button class=\"colab-df-convert\" onclick=\"convertToInteractive('df-deecc2e5-f0e9-43ab-bdef-1e0cfe1d3c19')\"\n",
              "            title=\"Convert this dataframe to an interactive table.\"\n",
              "            style=\"display:none;\">\n",
              "\n",
              "  <svg xmlns=\"http://www.w3.org/2000/svg\" height=\"24px\" viewBox=\"0 -960 960 960\">\n",
              "    <path d=\"M120-120v-720h720v720H120Zm60-500h600v-160H180v160Zm220 220h160v-160H400v160Zm0 220h160v-160H400v160ZM180-400h160v-160H180v160Zm440 0h160v-160H620v160ZM180-180h160v-160H180v160Zm440 0h160v-160H620v160Z\"/>\n",
              "  </svg>\n",
              "    </button>\n",
              "\n",
              "  <style>\n",
              "    .colab-df-container {\n",
              "      display:flex;\n",
              "      gap: 12px;\n",
              "    }\n",
              "\n",
              "    .colab-df-convert {\n",
              "      background-color: #E8F0FE;\n",
              "      border: none;\n",
              "      border-radius: 50%;\n",
              "      cursor: pointer;\n",
              "      display: none;\n",
              "      fill: #1967D2;\n",
              "      height: 32px;\n",
              "      padding: 0 0 0 0;\n",
              "      width: 32px;\n",
              "    }\n",
              "\n",
              "    .colab-df-convert:hover {\n",
              "      background-color: #E2EBFA;\n",
              "      box-shadow: 0px 1px 2px rgba(60, 64, 67, 0.3), 0px 1px 3px 1px rgba(60, 64, 67, 0.15);\n",
              "      fill: #174EA6;\n",
              "    }\n",
              "\n",
              "    .colab-df-buttons div {\n",
              "      margin-bottom: 4px;\n",
              "    }\n",
              "\n",
              "    [theme=dark] .colab-df-convert {\n",
              "      background-color: #3B4455;\n",
              "      fill: #D2E3FC;\n",
              "    }\n",
              "\n",
              "    [theme=dark] .colab-df-convert:hover {\n",
              "      background-color: #434B5C;\n",
              "      box-shadow: 0px 1px 3px 1px rgba(0, 0, 0, 0.15);\n",
              "      filter: drop-shadow(0px 1px 2px rgba(0, 0, 0, 0.3));\n",
              "      fill: #FFFFFF;\n",
              "    }\n",
              "  </style>\n",
              "\n",
              "    <script>\n",
              "      const buttonEl =\n",
              "        document.querySelector('#df-deecc2e5-f0e9-43ab-bdef-1e0cfe1d3c19 button.colab-df-convert');\n",
              "      buttonEl.style.display =\n",
              "        google.colab.kernel.accessAllowed ? 'block' : 'none';\n",
              "\n",
              "      async function convertToInteractive(key) {\n",
              "        const element = document.querySelector('#df-deecc2e5-f0e9-43ab-bdef-1e0cfe1d3c19');\n",
              "        const dataTable =\n",
              "          await google.colab.kernel.invokeFunction('convertToInteractive',\n",
              "                                                    [key], {});\n",
              "        if (!dataTable) return;\n",
              "\n",
              "        const docLinkHtml = 'Like what you see? Visit the ' +\n",
              "          '<a target=\"_blank\" href=https://colab.research.google.com/notebooks/data_table.ipynb>data table notebook</a>'\n",
              "          + ' to learn more about interactive tables.';\n",
              "        element.innerHTML = '';\n",
              "        dataTable['output_type'] = 'display_data';\n",
              "        await google.colab.output.renderOutput(dataTable, element);\n",
              "        const docLink = document.createElement('div');\n",
              "        docLink.innerHTML = docLinkHtml;\n",
              "        element.appendChild(docLink);\n",
              "      }\n",
              "    </script>\n",
              "  </div>\n",
              "\n",
              "\n",
              "    <div id=\"df-ceb1a67c-c4f7-467c-b5d3-b7c2d2400b9a\">\n",
              "      <button class=\"colab-df-quickchart\" onclick=\"quickchart('df-ceb1a67c-c4f7-467c-b5d3-b7c2d2400b9a')\"\n",
              "                title=\"Suggest charts\"\n",
              "                style=\"display:none;\">\n",
              "\n",
              "<svg xmlns=\"http://www.w3.org/2000/svg\" height=\"24px\"viewBox=\"0 0 24 24\"\n",
              "     width=\"24px\">\n",
              "    <g>\n",
              "        <path d=\"M19 3H5c-1.1 0-2 .9-2 2v14c0 1.1.9 2 2 2h14c1.1 0 2-.9 2-2V5c0-1.1-.9-2-2-2zM9 17H7v-7h2v7zm4 0h-2V7h2v10zm4 0h-2v-4h2v4z\"/>\n",
              "    </g>\n",
              "</svg>\n",
              "      </button>\n",
              "\n",
              "<style>\n",
              "  .colab-df-quickchart {\n",
              "      --bg-color: #E8F0FE;\n",
              "      --fill-color: #1967D2;\n",
              "      --hover-bg-color: #E2EBFA;\n",
              "      --hover-fill-color: #174EA6;\n",
              "      --disabled-fill-color: #AAA;\n",
              "      --disabled-bg-color: #DDD;\n",
              "  }\n",
              "\n",
              "  [theme=dark] .colab-df-quickchart {\n",
              "      --bg-color: #3B4455;\n",
              "      --fill-color: #D2E3FC;\n",
              "      --hover-bg-color: #434B5C;\n",
              "      --hover-fill-color: #FFFFFF;\n",
              "      --disabled-bg-color: #3B4455;\n",
              "      --disabled-fill-color: #666;\n",
              "  }\n",
              "\n",
              "  .colab-df-quickchart {\n",
              "    background-color: var(--bg-color);\n",
              "    border: none;\n",
              "    border-radius: 50%;\n",
              "    cursor: pointer;\n",
              "    display: none;\n",
              "    fill: var(--fill-color);\n",
              "    height: 32px;\n",
              "    padding: 0;\n",
              "    width: 32px;\n",
              "  }\n",
              "\n",
              "  .colab-df-quickchart:hover {\n",
              "    background-color: var(--hover-bg-color);\n",
              "    box-shadow: 0 1px 2px rgba(60, 64, 67, 0.3), 0 1px 3px 1px rgba(60, 64, 67, 0.15);\n",
              "    fill: var(--button-hover-fill-color);\n",
              "  }\n",
              "\n",
              "  .colab-df-quickchart-complete:disabled,\n",
              "  .colab-df-quickchart-complete:disabled:hover {\n",
              "    background-color: var(--disabled-bg-color);\n",
              "    fill: var(--disabled-fill-color);\n",
              "    box-shadow: none;\n",
              "  }\n",
              "\n",
              "  .colab-df-spinner {\n",
              "    border: 2px solid var(--fill-color);\n",
              "    border-color: transparent;\n",
              "    border-bottom-color: var(--fill-color);\n",
              "    animation:\n",
              "      spin 1s steps(1) infinite;\n",
              "  }\n",
              "\n",
              "  @keyframes spin {\n",
              "    0% {\n",
              "      border-color: transparent;\n",
              "      border-bottom-color: var(--fill-color);\n",
              "      border-left-color: var(--fill-color);\n",
              "    }\n",
              "    20% {\n",
              "      border-color: transparent;\n",
              "      border-left-color: var(--fill-color);\n",
              "      border-top-color: var(--fill-color);\n",
              "    }\n",
              "    30% {\n",
              "      border-color: transparent;\n",
              "      border-left-color: var(--fill-color);\n",
              "      border-top-color: var(--fill-color);\n",
              "      border-right-color: var(--fill-color);\n",
              "    }\n",
              "    40% {\n",
              "      border-color: transparent;\n",
              "      border-right-color: var(--fill-color);\n",
              "      border-top-color: var(--fill-color);\n",
              "    }\n",
              "    60% {\n",
              "      border-color: transparent;\n",
              "      border-right-color: var(--fill-color);\n",
              "    }\n",
              "    80% {\n",
              "      border-color: transparent;\n",
              "      border-right-color: var(--fill-color);\n",
              "      border-bottom-color: var(--fill-color);\n",
              "    }\n",
              "    90% {\n",
              "      border-color: transparent;\n",
              "      border-bottom-color: var(--fill-color);\n",
              "    }\n",
              "  }\n",
              "</style>\n",
              "\n",
              "      <script>\n",
              "        async function quickchart(key) {\n",
              "          const quickchartButtonEl =\n",
              "            document.querySelector('#' + key + ' button');\n",
              "          quickchartButtonEl.disabled = true;  // To prevent multiple clicks.\n",
              "          quickchartButtonEl.classList.add('colab-df-spinner');\n",
              "          try {\n",
              "            const charts = await google.colab.kernel.invokeFunction(\n",
              "                'suggestCharts', [key], {});\n",
              "          } catch (error) {\n",
              "            console.error('Error during call to suggestCharts:', error);\n",
              "          }\n",
              "          quickchartButtonEl.classList.remove('colab-df-spinner');\n",
              "          quickchartButtonEl.classList.add('colab-df-quickchart-complete');\n",
              "        }\n",
              "        (() => {\n",
              "          let quickchartButtonEl =\n",
              "            document.querySelector('#df-ceb1a67c-c4f7-467c-b5d3-b7c2d2400b9a button');\n",
              "          quickchartButtonEl.style.display =\n",
              "            google.colab.kernel.accessAllowed ? 'block' : 'none';\n",
              "        })();\n",
              "      </script>\n",
              "    </div>\n",
              "\n",
              "    </div>\n",
              "  </div>\n"
            ],
            "application/vnd.google.colaboratory.intrinsic+json": {
              "type": "dataframe",
              "summary": "{\n  \"name\": \"df\",\n  \"rows\": 8,\n  \"fields\": [\n    {\n      \"column\": \"Casa\",\n      \"properties\": {\n        \"dtype\": \"number\",\n        \"std\": 6.906170579382335,\n        \"min\": 1.0,\n        \"max\": 20.0,\n        \"num_unique_values\": 6,\n        \"samples\": [\n          20.0,\n          10.5,\n          15.25\n        ],\n        \"semantic_type\": \"\",\n        \"description\": \"\"\n      }\n    },\n    {\n      \"column\": \"Costo de calefacci\\u00f3n (USD)\",\n      \"properties\": {\n        \"dtype\": \"number\",\n        \"std\": 126.75676509248476,\n        \"min\": 20.0,\n        \"max\": 400.0,\n        \"num_unique_values\": 8,\n        \"samples\": [\n          205.25,\n          202.5,\n          20.0\n        ],\n        \"semantic_type\": \"\",\n        \"description\": \"\"\n      }\n    },\n    {\n      \"column\": \"Temp externa media (\\u00baF)\",\n      \"properties\": {\n        \"dtype\": \"number\",\n        \"std\": 19.43182728926185,\n        \"min\": 7.0,\n        \"max\": 65.0,\n        \"num_unique_values\": 8,\n        \"samples\": [\n          37.2,\n          35.5,\n          20.0\n        ],\n        \"semantic_type\": \"\",\n        \"description\": \"\"\n      }\n    },\n    {\n      \"column\": \"Aislamiento del atico (pulgadas)\",\n      \"properties\": {\n        \"dtype\": \"number\",\n        \"std\": 5.875355105660039,\n        \"min\": 2.0,\n        \"max\": 20.0,\n        \"num_unique_values\": 8,\n        \"samples\": [\n          6.35,\n          6.0,\n          20.0\n        ],\n        \"semantic_type\": \"\",\n        \"description\": \"\"\n      }\n    },\n    {\n      \"column\": \"Antiguedad del calentador (a\\u00f1os)\",\n      \"properties\": {\n        \"dtype\": \"number\",\n        \"std\": 6.282982921815837,\n        \"min\": 1.0,\n        \"max\": 20.0,\n        \"num_unique_values\": 8,\n        \"samples\": [\n          7.0,\n          6.5,\n          20.0\n        ],\n        \"semantic_type\": \"\",\n        \"description\": \"\"\n      }\n    },\n    {\n      \"column\": \"Garaje\",\n      \"properties\": {\n        \"dtype\": \"number\",\n        \"std\": 6.936923508792422,\n        \"min\": 0.0,\n        \"max\": 20.0,\n        \"num_unique_values\": 5,\n        \"samples\": [\n          0.4,\n          1.0,\n          0.5026246899500346\n        ],\n        \"semantic_type\": \"\",\n        \"description\": \"\"\n      }\n    }\n  ]\n}"
            }
          },
          "metadata": {},
          "execution_count": 10
        }
      ]
    },
    {
      "cell_type": "markdown",
      "source": [
        "## Modelo de regresión lineal simple\n",
        "\n",
        "$$\\hat{Y}=a+bX$$\n",
        "\n",
        "Donde:\n",
        "\n",
        "**$\\hat{Y}$**: predicción de Y  \n",
        "**Y**: variable dependiente (que queremos predecir)  \n",
        "**X**: variable(s) independiente(s) (predictores)  \n",
        "**a**: intercepto (valor de Y cuando X = 0)  \n",
        "**b**: pendiente (cuánto cambia Y por cada unidad de X)"
      ],
      "metadata": {
        "id": "ugqDxgFcxbce"
      }
    },
    {
      "cell_type": "code",
      "source": [
        "Y = df['Costo de calefacción (USD)']\n",
        "X = df['Temp externa media (ºF)']"
      ],
      "metadata": {
        "id": "mjbFBYNBH3ct"
      },
      "execution_count": 11,
      "outputs": []
    },
    {
      "cell_type": "code",
      "execution_count": 12,
      "metadata": {
        "colab": {
          "base_uri": "https://localhost:8080/"
        },
        "id": "I166EbObpNyh",
        "outputId": "3715830e-e372-43e8-f51c-5b45573cbfe1"
      },
      "outputs": [
        {
          "output_type": "stream",
          "name": "stdout",
          "text": [
            "Intercepto (a): [388.80195166]\n",
            "Pendiente (b): [[-4.93419225]]\n"
          ]
        }
      ],
      "source": [
        "from sklearn.linear_model import LinearRegression\n",
        "import numpy as np\n",
        "\n",
        "# Para usar las variables de la regresión, estas deben ser tipo array\n",
        "X = np.array(X).reshape(-1, 1)\n",
        "Y = np.array(Y).reshape(-1, 1)\n",
        "\n",
        "# Modelo de regresión\n",
        "modelo = LinearRegression()\n",
        "modelo.fit(X, Y)\n",
        "\n",
        "# Ver coeficientes\n",
        "print(\"Intercepto (a):\", modelo.intercept_)\n",
        "print(\"Pendiente (b):\", modelo.coef_)\n"
      ]
    },
    {
      "cell_type": "markdown",
      "source": [],
      "metadata": {
        "id": "1AOOirSNQV6p"
      }
    },
    {
      "cell_type": "markdown",
      "source": [
        "**¿Cómo funciona la regresión?**"
      ],
      "metadata": {
        "id": "iVVPuBD378EJ"
      }
    },
    {
      "cell_type": "markdown",
      "source": [
        "La idea es minimizar la suma de los errores al cuadrado, es decir:\n",
        "$$Error=Y− \\hat{Y}$$\n",
        "\n",
        "Queremos minimizar:\n",
        "\n",
        "$$Min ∑(Yi−\\hat{Y})^2$$\n"
      ],
      "metadata": {
        "id": "r3GM40sI3pq6"
      }
    },
    {
      "cell_type": "markdown",
      "source": [
        "Ahora veremos como calcular la ecuación de la regresión\n",
        "\n",
        "$$\\hat{Y}=a+bX$$\n",
        "\n",
        "El coeficiente de la variable independiente se calcula de la siguiente manera:\n",
        "\n",
        "$$b=\\frac{∑(Xi​−\\bar{X})(Yi​−\\bar{Y})}{∑(Xi​−\\bar{X})^2}$$​\n",
        "\n"
      ],
      "metadata": {
        "id": "UvjfBTc98IGP"
      }
    },
    {
      "cell_type": "code",
      "source": [
        "b= sum((X-X.mean())*(Y-Y.mean()))/sum((X-X.mean())**2)\n",
        "b"
      ],
      "metadata": {
        "colab": {
          "base_uri": "https://localhost:8080/"
        },
        "id": "-aKaUAnG-gW3",
        "outputId": "4aa2f329-7356-40fa-e916-8a74df1c9e09"
      },
      "execution_count": 13,
      "outputs": [
        {
          "output_type": "execute_result",
          "data": {
            "text/plain": [
              "array([-4.93419225])"
            ]
          },
          "metadata": {},
          "execution_count": 13
        }
      ]
    },
    {
      "cell_type": "markdown",
      "source": [
        "El intercepto se calcula de la siguiente manera\n",
        "\n",
        "$$a=\\bar{Y}−b\\bar{X}$$"
      ],
      "metadata": {
        "id": "AtOHSopa-JxF"
      }
    },
    {
      "cell_type": "code",
      "source": [
        "a= Y.mean()-b*X.mean()\n",
        "a"
      ],
      "metadata": {
        "colab": {
          "base_uri": "https://localhost:8080/"
        },
        "id": "RIv7paZf-JEr",
        "outputId": "125d9c9a-29e6-4555-a759-2f7373e73f04"
      },
      "execution_count": 14,
      "outputs": [
        {
          "output_type": "execute_result",
          "data": {
            "text/plain": [
              "array([388.80195166])"
            ]
          },
          "metadata": {},
          "execution_count": 14
        }
      ]
    },
    {
      "cell_type": "markdown",
      "source": [
        "Por lo tanto, la ecuación de la regresión sería:\n",
        "\n",
        "$$\\hat{Y}=388.8 + -4.93 * X$$"
      ],
      "metadata": {
        "id": "-GlzXXOXBTng"
      }
    },
    {
      "cell_type": "markdown",
      "source": [
        "Teniendo en cuenta que Y es el costo de la calefacción y X es la temperatura exterior en ºF. Si se tiene para la casa 1, una temperatura de 35 ºF, el costo de calefacción predicho es de:\n",
        "\n",
        "$$\\hat{Y}=388.8 + -4.93 * 35$$\n",
        "$$\\hat{Y}=216.10$$\n",
        "\n",
        "Teniendo en cuenta que el valor real fue de 250 dolares, se tuvo un error de\n",
        "\n",
        "$$Error=Y− \\hat{Y}$$\n",
        "$$Error=250− 216.10= 33.90$$\n",
        "\n",
        "Lo que busca la regresión es minimizar la sumatoria de los errores de todas las observaciones"
      ],
      "metadata": {
        "id": "mZAMhBH-Bwip"
      }
    },
    {
      "cell_type": "code",
      "source": [
        "import statsmodels.api as sm\n",
        "\n",
        "# Intercepto\n",
        "X_const = sm.add_constant(X)\n",
        "\n",
        "# Modelo de regresión\n",
        "modelo_sm = sm.OLS(Y, X_const).fit()\n",
        "\n",
        "# Imprimir el resumen del modelo (incluye la ecuación y ANOVA)\n",
        "print(modelo_sm.summary())\n",
        "\n",
        "# Obtener y mostrar los residuales\n",
        "residuales = modelo_sm.resid\n",
        "print(\"\\nResiduales:\")\n",
        "print(residuales)"
      ],
      "metadata": {
        "colab": {
          "base_uri": "https://localhost:8080/"
        },
        "id": "CY2-3lF0E9WW",
        "outputId": "ff23a6e6-9804-4592-845d-ea2ac6942084"
      },
      "execution_count": 15,
      "outputs": [
        {
          "output_type": "stream",
          "name": "stdout",
          "text": [
            "                            OLS Regression Results                            \n",
            "==============================================================================\n",
            "Dep. Variable:                      y   R-squared:                       0.659\n",
            "Model:                            OLS   Adj. R-squared:                  0.640\n",
            "Method:                 Least Squares   F-statistic:                     34.72\n",
            "Date:                Thu, 31 Jul 2025   Prob (F-statistic):           1.41e-05\n",
            "Time:                        14:42:11   Log-Likelihood:                -110.36\n",
            "No. Observations:                  20   AIC:                             224.7\n",
            "Df Residuals:                      18   BIC:                             226.7\n",
            "Df Model:                           1                                         \n",
            "Covariance Type:            nonrobust                                         \n",
            "==============================================================================\n",
            "                 coef    std err          t      P>|t|      [0.025      0.975]\n",
            "------------------------------------------------------------------------------\n",
            "const        388.8020     34.241     11.355      0.000     316.865     460.739\n",
            "x1            -4.9342      0.837     -5.892      0.000      -6.694      -3.175\n",
            "==============================================================================\n",
            "Omnibus:                        2.208   Durbin-Watson:                   1.367\n",
            "Prob(Omnibus):                  0.332   Jarque-Bera (JB):                1.630\n",
            "Skew:                           0.683   Prob(JB):                        0.443\n",
            "Kurtosis:                       2.698   Cond. No.                         98.6\n",
            "==============================================================================\n",
            "\n",
            "Notes:\n",
            "[1] Standard Errors assume that the covariance matrix of the errors is correctly specified.\n",
            "\n",
            "Residuales:\n",
            "[  33.89477705  114.28962356  -46.1710307   -49.75041672   23.92054452\n",
            "  -40.77618419   15.53997083  -64.26260592  -55.18391443    2.57862203\n",
            "  -49.35557022   53.03927629  109.88189332  123.63154605  -20.75041672\n",
            "  -18.11810668   -8.61880122   -1.4342617   -20.57876094 -101.77618419]\n"
          ]
        }
      ]
    },
    {
      "cell_type": "markdown",
      "source": [
        "**Interpretación de los Resultados de la Regresión OLS**\n",
        "\n",
        " **R-squared (R²)**: Este valor (0.659) indica que aproximadamente el 65.9% de la variabilidad en el costo de la calefacción puede ser explicada por la temperatura externa media. Un valor más alto significa un mejor ajuste del modelo.\n",
        "\n",
        " **Adj. R-squared (R² ajustado)**: Similar al R-squared, pero ajustado por el número de predictores en el modelo. Es útil para comparar modelos con diferente número de variables.\n",
        "\n",
        " **F-statistic**: Esta es una prueba de la significancia general del modelo. Un valor alto (34.72) con una probabilidad baja (Prob (F-statistic) de 1.41e-05) sugiere que el modelo es estadísticamente significativo.\n",
        "\n",
        " **coef (Coeficientes):**\n",
        "     const (Intercepto): El valor de 388.8020 es el costo de calefacción predicho cuando la temperatura externa es 0°F.\n",
        "     x1 (Pendiente): El valor de -4.9342 indica que por cada grado Fahrenheit que aumenta la temperatura externa, el costo de la calefacción disminuye en aproximadamente 4.93 USD.\n",
        "\n",
        " **P>|t| (Valor p):** Estos valores prueban la significancia de cada coeficiente. Un valor p bajo (generalmente < 0.05) indica que el coeficiente es estadísticamente significativo. En tu caso, tanto el intercepto como el coeficiente de la temperatura son significativos.\n",
        "\n",
        " **[0.025 0.975] (Intervalo de Confianza)**: Este es el rango en el que se espera que se encuentre el verdadero valor del coeficiente con un 95% de confianza.\n"
      ],
      "metadata": {
        "id": "ELXHLw_wMpvs"
      }
    },
    {
      "cell_type": "markdown",
      "source": [
        "**Grafico de los residuales**"
      ],
      "metadata": {
        "id": "5zbaG56DGmOY"
      }
    },
    {
      "cell_type": "code",
      "metadata": {
        "colab": {
          "base_uri": "https://localhost:8080/",
          "height": 507
        },
        "id": "9be973f2",
        "outputId": "9841da4d-d4f2-4d84-921d-b499e333f8a9"
      },
      "source": [
        "import matplotlib.pyplot as plt\n",
        "import scipy.stats as stats\n",
        "\n",
        "# Gráfico de residuales vs. valores ajustados\n",
        "plt.figure(figsize=(12, 5))\n",
        "\n",
        "plt.subplot(1, 2, 1)\n",
        "plt.scatter(modelo_sm.fittedvalues, residuales)\n",
        "plt.axhline(y=0, color='r', linestyle='--')\n",
        "plt.xlabel('Valores Ajustados')\n",
        "plt.ylabel('Residuales')\n",
        "plt.title('Gráfico de Residuales vs. Valores Ajustados')\n",
        "\n",
        "# Gráfico Q-Q de los residuales\n",
        "plt.subplot(1, 2, 2)\n",
        "stats.probplot(residuales, dist=\"norm\", plot=plt)\n",
        "plt.title('Gráfico Q-Q de los Residuales')\n",
        "\n",
        "plt.tight_layout()\n",
        "plt.show()"
      ],
      "execution_count": 16,
      "outputs": [
        {
          "output_type": "display_data",
          "data": {
            "text/plain": [
              "<Figure size 1200x500 with 2 Axes>"
            ],
            "image/png": "[encoded data removed]"
          },
          "metadata": {}
        }
      ]
    },
    {
      "cell_type": "markdown",
      "source": [
        "# Metricas de desempeño"
      ],
      "metadata": {
        "id": "xD8HbDV8ROtf"
      }
    },
    {
      "cell_type": "code",
      "source": [
        "y_real= df['Costo de calefacción (USD)']\n",
        "y_pred= modelo.predict(X)"
      ],
      "metadata": {
        "id": "5I9-vlt1QtRn"
      },
      "execution_count": 17,
      "outputs": []
    },
    {
      "cell_type": "code",
      "source": [
        "from sklearn.metrics import r2_score, mean_squared_error, mean_absolute_error\n",
        "import numpy as np\n",
        "\n",
        "# y_real: valores verdaderos\n",
        "# y_pred: valores predichos por el modelo\n",
        "\n",
        "r2 = r2_score(y_real, y_pred)\n",
        "mse = mean_squared_error(y_real, y_pred)\n",
        "rmse = np.sqrt(mse)  # raíz del MSE\n",
        "mae = mean_absolute_error(y_real, y_pred)\n",
        "\n",
        "print(\"R^2:\", r2)\n",
        "print(\"RMSE:\", rmse)\n",
        "print(\"MAE:\", mae)"
      ],
      "metadata": {
        "colab": {
          "base_uri": "https://localhost:8080/"
        },
        "id": "l40BaaFBPuK7",
        "outputId": "79426050-6466-4dd3-ae7c-2add026f4349"
      },
      "execution_count": 18,
      "outputs": [
        {
          "output_type": "stream",
          "name": "stdout",
          "text": [
            "R^2: 0.6585465900839088\n",
            "RMSE: 60.29129657850376\n",
            "MAE: 47.677625364633975\n"
          ]
        }
      ]
    },
    {
      "cell_type": "markdown",
      "source": [
        "# Ejercicio práctico\n",
        "Ahora queremos mejorar el modelo, por lo tanto, vamos a probar con las otras variables independientes disponibles en el dataset, hasta obtener el mejor modelo.\n",
        "Podemos hacer varios modelos de regresion lineal simple y múltiple para comparar."
      ],
      "metadata": {
        "id": "KrFx9rogHWSL"
      }
    },
    {
      "cell_type": "markdown",
      "source": [
        "# Problemas que se pueden presentar en la regresión lineal multivariante\n",
        "\n",
        "# Multicolinealidad\n",
        "- Es cuando dos o más variables independientes están fuertemente correlacionadas entre sí.\n",
        "\n",
        "## Cómo detectarla:\n",
        "- Calculando el VIF (Variance Inflation Factor): valores > 5 o 10 indican problemas.\n",
        "\n",
        "## Soluciones:\n",
        "- Eliminar variables redundantes, combinar variables, usar regresión ridge o LASSO."
      ],
      "metadata": {
        "id": "SJWZ2w6iTCPy"
      }
    },
    {
      "cell_type": "code",
      "source": [
        "from statsmodels.stats.outliers_influence import variance_inflation_factor\n",
        "\n",
        "# Definir las variables independientes\n",
        "X_vif = df[['Temp externa media (ºF)', 'Aislamiento del atico (pulgadas)', 'Antiguedad del calentador (años)', 'Garaje']]\n",
        "\n",
        "# Calcular el VIF para cada variable\n",
        "vif_data = pd.DataFrame()\n",
        "vif_data[\"feature\"] = X_vif.columns\n",
        "vif_data[\"VIF\"] = [variance_inflation_factor(X_vif.values, i) for i in range(len(X_vif.columns))]\n",
        "\n",
        "print(vif_data)"
      ],
      "metadata": {
        "colab": {
          "base_uri": "https://localhost:8080/"
        },
        "id": "IzrlPm_XVN2K",
        "outputId": "be2a0947-aca1-4456-e695-7bc2f68d52a2"
      },
      "execution_count": 19,
      "outputs": [
        {
          "output_type": "stream",
          "name": "stdout",
          "text": [
            "                            feature       VIF\n",
            "0           Temp externa media (ºF)  3.434863\n",
            "1  Aislamiento del atico (pulgadas)  5.685857\n",
            "2  Antiguedad del calentador (años)  5.568800\n",
            "3                            Garaje  2.114005\n"
          ]
        }
      ]
    },
    {
      "cell_type": "markdown",
      "source": [
        "# Heterocedasticidad\n",
        "\n",
        "- Es cuando la varianza de los errores no es constante a lo largo de los valores de X.\n",
        "- Los errores estándar no son confiables → los tests estadísticos (como el p-valor) pueden ser incorrectos.\n",
        "\n",
        "## Cómo detectarlo:\n",
        "- Gráfico de residuos vs. predicciones: si hay forma de \"cono\", hay heterocedasticidad.\n",
        "- Test de Breusch-Pagan.\n",
        "\n",
        "##Soluciones:\n",
        "- Transformar variables (log, sqrt), usar regresión robusta."
      ],
      "metadata": {
        "id": "39rmVceHT7CI"
      }
    }
  ]
}